{
 "cells": [
  {
   "cell_type": "code",
   "execution_count": 1,
   "metadata": {},
   "outputs": [
    {
     "name": "stdout",
     "output_type": "stream",
     "text": [
      "2.0.0-alpha0\n",
      "sys.version_info(major=3, minor=7, micro=3, releaselevel='final', serial=0)\n",
      "matplotlib 3.1.0\n",
      "numpy 1.16.4\n",
      "pandas 0.24.2\n",
      "sklearn 0.21.2\n",
      "tensorflow 2.0.0-alpha0\n",
      "tensorflow.python.keras.api._v2.keras 2.2.4-tf\n"
     ]
    }
   ],
   "source": [
    "import matplotlib as mpl\n",
    "import matplotlib.pyplot as plt\n",
    "%matplotlib inline\n",
    "import numpy as np\n",
    "import sklearn\n",
    "import pandas as pd\n",
    "import os\n",
    "import sys\n",
    "import time\n",
    "import tensorflow as tf\n",
    "\n",
    "from tensorflow import keras\n",
    "\n",
    "print(tf.__version__)\n",
    "print(sys.version_info)\n",
    "for module in mpl, np, pd, sklearn, tf, keras:\n",
    "    print(module.__name__, module.__version__)"
   ]
  },
  {
   "cell_type": "code",
   "execution_count": 2,
   "metadata": {},
   "outputs": [
    {
     "name": "stderr",
     "output_type": "stream",
     "text": [
      "Downloading Cal. housing from https://ndownloader.figshare.com/files/5976036 to /root/scikit_learn_data\n",
      "WARNING: Logging before flag parsing goes to stderr.\n",
      "I0624 15:01:01.080976 139621882844928 california_housing.py:114] Downloading Cal. housing from https://ndownloader.figshare.com/files/5976036 to /root/scikit_learn_data\n"
     ]
    },
    {
     "name": "stdout",
     "output_type": "stream",
     "text": [
      ".. _california_housing_dataset:\n",
      "\n",
      "California Housing dataset\n",
      "--------------------------\n",
      "\n",
      "**Data Set Characteristics:**\n",
      "\n",
      "    :Number of Instances: 20640\n",
      "\n",
      "    :Number of Attributes: 8 numeric, predictive attributes and the target\n",
      "\n",
      "    :Attribute Information:\n",
      "        - MedInc        median income in block\n",
      "        - HouseAge      median house age in block\n",
      "        - AveRooms      average number of rooms\n",
      "        - AveBedrms     average number of bedrooms\n",
      "        - Population    block population\n",
      "        - AveOccup      average house occupancy\n",
      "        - Latitude      house block latitude\n",
      "        - Longitude     house block longitude\n",
      "\n",
      "    :Missing Attribute Values: None\n",
      "\n",
      "This dataset was obtained from the StatLib repository.\n",
      "http://lib.stat.cmu.edu/datasets/\n",
      "\n",
      "The target variable is the median house value for California districts.\n",
      "\n",
      "This dataset was derived from the 1990 U.S. census, using one row per census\n",
      "block group. A block group is the smallest geographical unit for which the U.S.\n",
      "Census Bureau publishes sample data (a block group typically has a population\n",
      "of 600 to 3,000 people).\n",
      "\n",
      "It can be downloaded/loaded using the\n",
      ":func:`sklearn.datasets.fetch_california_housing` function.\n",
      "\n",
      ".. topic:: References\n",
      "\n",
      "    - Pace, R. Kelley and Ronald Barry, Sparse Spatial Autoregressions,\n",
      "      Statistics and Probability Letters, 33 (1997) 291-297\n",
      "\n",
      "(20640, 8)\n",
      "(20640,)\n"
     ]
    }
   ],
   "source": [
    "from sklearn.datasets import fetch_california_housing\n",
    "housing = fetch_california_housing()\n",
    "print(housing.DESCR)\n",
    "print(housing.data.shape)\n",
    "print(housing.target.shape)"
   ]
  },
  {
   "cell_type": "code",
   "execution_count": 3,
   "metadata": {},
   "outputs": [
    {
     "name": "stdout",
     "output_type": "stream",
     "text": [
      "array([[ 8.32520000e+00,  4.10000000e+01,  6.98412698e+00,\n",
      "         1.02380952e+00,  3.22000000e+02,  2.55555556e+00,\n",
      "         3.78800000e+01, -1.22230000e+02],\n",
      "       [ 8.30140000e+00,  2.10000000e+01,  6.23813708e+00,\n",
      "         9.71880492e-01,  2.40100000e+03,  2.10984183e+00,\n",
      "         3.78600000e+01, -1.22220000e+02],\n",
      "       [ 7.25740000e+00,  5.20000000e+01,  8.28813559e+00,\n",
      "         1.07344633e+00,  4.96000000e+02,  2.80225989e+00,\n",
      "         3.78500000e+01, -1.22240000e+02],\n",
      "       [ 5.64310000e+00,  5.20000000e+01,  5.81735160e+00,\n",
      "         1.07305936e+00,  5.58000000e+02,  2.54794521e+00,\n",
      "         3.78500000e+01, -1.22250000e+02],\n",
      "       [ 3.84620000e+00,  5.20000000e+01,  6.28185328e+00,\n",
      "         1.08108108e+00,  5.65000000e+02,  2.18146718e+00,\n",
      "         3.78500000e+01, -1.22250000e+02]])\n",
      "array([4.526, 3.585, 3.521, 3.413, 3.422])\n"
     ]
    }
   ],
   "source": [
    "import pprint\n",
    "pprint.pprint(housing.data[0:5])\n",
    "pprint.pprint(housing.target[0:5])"
   ]
  },
  {
   "cell_type": "code",
   "execution_count": 6,
   "metadata": {},
   "outputs": [
    {
     "name": "stdout",
     "output_type": "stream",
     "text": [
      "(11610, 8) (11610,)\n",
      "(3870, 8) (3870,)\n",
      "(5160, 8) (5160,)\n"
     ]
    }
   ],
   "source": [
    "from sklearn.model_selection import train_test_split\n",
    "x_train_all, x_test, y_train_all, y_test = train_test_split(\n",
    "    housing.data, housing.target, random_state = 7)\n",
    "x_train, x_valid, y_train, y_valid = train_test_split(\n",
    "    x_train_all, y_train_all, random_state = 11)\n",
    "print(x_train.shape, y_train.shape)\n",
    "print(x_valid.shape, y_valid.shape)\n",
    "print(x_test.shape, y_test.shape)"
   ]
  },
  {
   "cell_type": "code",
   "execution_count": 9,
   "metadata": {},
   "outputs": [],
   "source": [
    "from sklearn.preprocessing import StandardScaler\n",
    "\n",
    "scaler = StandardScaler()\n",
    "x_train_scaled = scaler.fit_transform(x_train)\n",
    "x_valid_scaled = scaler.transform(x_valid)\n",
    "x_test_scaled = scaler.transform(x_test)"
   ]
  },
  {
   "cell_type": "code",
   "execution_count": 10,
   "metadata": {},
   "outputs": [
    {
     "name": "stdout",
     "output_type": "stream",
     "text": [
      "Model: \"sequential\"\n",
      "_________________________________________________________________\n",
      "Layer (type)                 Output Shape              Param #   \n",
      "=================================================================\n",
      "dense (Dense)                (None, 30)                270       \n",
      "_________________________________________________________________\n",
      "dense_1 (Dense)              (None, 1)                 31        \n",
      "=================================================================\n",
      "Total params: 301\n",
      "Trainable params: 301\n",
      "Non-trainable params: 0\n",
      "_________________________________________________________________\n"
     ]
    }
   ],
   "source": [
    "model = keras.models.Sequential([\n",
    "    keras.layers.Dense(30, activation = 'relu',\n",
    "                      input_shape = x_train.shape[1:]),\n",
    "    keras.layers.Dense(1),\n",
    "])\n",
    "model.summary()\n",
    "model.compile(loss = \"mean_squared_error\", optimizer = \"sgd\")\n",
    "callbacks = [keras.callbacks.EarlyStopping(\n",
    "    patience = 5, min_delta = 1e-3)]\n"
   ]
  },
  {
   "cell_type": "code",
   "execution_count": 12,
   "metadata": {},
   "outputs": [
    {
     "name": "stdout",
     "output_type": "stream",
     "text": [
      "Train on 11610 samples, validate on 3870 samples\n",
      "Epoch 1/100\n",
      "11610/11610 [==============================] - 2s 137us/sample - loss: 2.5676 - val_loss: 1.2183\n",
      "Epoch 2/100\n",
      "11610/11610 [==============================] - 1s 99us/sample - loss: 0.8789 - val_loss: 0.8375\n",
      "Epoch 3/100\n",
      "11610/11610 [==============================] - 1s 103us/sample - loss: 0.7157 - val_loss: 0.7606\n",
      "Epoch 4/100\n",
      "11610/11610 [==============================] - 1s 103us/sample - loss: 0.6625 - val_loss: 0.7160\n",
      "Epoch 5/100\n",
      "11610/11610 [==============================] - 1s 103us/sample - loss: 0.6275 - val_loss: 0.6808\n",
      "Epoch 6/100\n",
      "11610/11610 [==============================] - 1s 104us/sample - loss: 0.5996 - val_loss: 0.6534\n",
      "Epoch 7/100\n",
      "11610/11610 [==============================] - 1s 98us/sample - loss: 0.5779 - val_loss: 0.6283\n",
      "Epoch 8/100\n",
      "11610/11610 [==============================] - 1s 109us/sample - loss: 0.5597 - val_loss: 0.6090\n",
      "Epoch 9/100\n",
      "11610/11610 [==============================] - 1s 106us/sample - loss: 0.5453 - val_loss: 0.5928\n",
      "Epoch 10/100\n",
      "11610/11610 [==============================] - 1s 104us/sample - loss: 0.5328 - val_loss: 0.5783\n",
      "Epoch 11/100\n",
      "11610/11610 [==============================] - 1s 107us/sample - loss: 0.5226 - val_loss: 0.5643\n",
      "Epoch 12/100\n",
      "11610/11610 [==============================] - 1s 104us/sample - loss: 0.5138 - val_loss: 0.5520\n",
      "Epoch 13/100\n",
      "11610/11610 [==============================] - 1s 103us/sample - loss: 0.5061 - val_loss: 0.5441\n",
      "Epoch 14/100\n",
      "11610/11610 [==============================] - 1s 103us/sample - loss: 0.4996 - val_loss: 0.5356\n",
      "Epoch 15/100\n",
      "11610/11610 [==============================] - 1s 105us/sample - loss: 0.4944 - val_loss: 0.5291\n",
      "Epoch 16/100\n",
      "11610/11610 [==============================] - 1s 107us/sample - loss: 0.4894 - val_loss: 0.5232\n",
      "Epoch 17/100\n",
      "11610/11610 [==============================] - 1s 106us/sample - loss: 0.4852 - val_loss: 0.5169\n",
      "Epoch 18/100\n",
      "11610/11610 [==============================] - 1s 103us/sample - loss: 0.4815 - val_loss: 0.5130\n",
      "Epoch 19/100\n",
      "11610/11610 [==============================] - 1s 109us/sample - loss: 0.4783 - val_loss: 0.5089\n",
      "Epoch 20/100\n",
      "11610/11610 [==============================] - 1s 105us/sample - loss: 0.4750 - val_loss: 0.5059\n",
      "Epoch 21/100\n",
      "11610/11610 [==============================] - 1s 104us/sample - loss: 0.4725 - val_loss: 0.5020\n",
      "Epoch 22/100\n",
      "11610/11610 [==============================] - 1s 107us/sample - loss: 0.4697 - val_loss: 0.4981\n",
      "Epoch 23/100\n",
      "11610/11610 [==============================] - 1s 104us/sample - loss: 0.4674 - val_loss: 0.4952\n",
      "Epoch 24/100\n",
      "11610/11610 [==============================] - 1s 103us/sample - loss: 0.4651 - val_loss: 0.4926\n",
      "Epoch 25/100\n",
      "11610/11610 [==============================] - 1s 106us/sample - loss: 0.4630 - val_loss: 0.4896\n",
      "Epoch 26/100\n",
      "11610/11610 [==============================] - 1s 103us/sample - loss: 0.4610 - val_loss: 0.4861\n",
      "Epoch 27/100\n",
      "11610/11610 [==============================] - 1s 104us/sample - loss: 0.4592 - val_loss: 0.4857\n",
      "Epoch 28/100\n",
      "11610/11610 [==============================] - 1s 110us/sample - loss: 0.4573 - val_loss: 0.4825\n",
      "Epoch 29/100\n",
      "11610/11610 [==============================] - 1s 105us/sample - loss: 0.4553 - val_loss: 0.4819\n",
      "Epoch 30/100\n",
      "11610/11610 [==============================] - 1s 104us/sample - loss: 0.4539 - val_loss: 0.4793\n",
      "Epoch 31/100\n",
      "11610/11610 [==============================] - 1s 104us/sample - loss: 0.4520 - val_loss: 0.4765\n",
      "Epoch 32/100\n",
      "11610/11610 [==============================] - 1s 104us/sample - loss: 0.4503 - val_loss: 0.4743\n",
      "Epoch 33/100\n",
      "11610/11610 [==============================] - 1s 103us/sample - loss: 0.4484 - val_loss: 0.4725\n",
      "Epoch 34/100\n",
      "11610/11610 [==============================] - 1s 103us/sample - loss: 0.4472 - val_loss: 0.4708\n",
      "Epoch 35/100\n",
      "11610/11610 [==============================] - 1s 104us/sample - loss: 0.4455 - val_loss: 0.4681\n",
      "Epoch 36/100\n",
      "11610/11610 [==============================] - 1s 107us/sample - loss: 0.4438 - val_loss: 0.4675\n",
      "Epoch 37/100\n",
      "11610/11610 [==============================] - 1s 105us/sample - loss: 0.4426 - val_loss: 0.4655\n",
      "Epoch 38/100\n",
      "11610/11610 [==============================] - 1s 106us/sample - loss: 0.4410 - val_loss: 0.4646\n",
      "Epoch 39/100\n",
      "11610/11610 [==============================] - 1s 108us/sample - loss: 0.4394 - val_loss: 0.4618\n",
      "Epoch 40/100\n",
      "11610/11610 [==============================] - 1s 106us/sample - loss: 0.4382 - val_loss: 0.4597\n",
      "Epoch 41/100\n",
      "11610/11610 [==============================] - 1s 110us/sample - loss: 0.4371 - val_loss: 0.4594\n",
      "Epoch 42/100\n",
      "11610/11610 [==============================] - 1s 108us/sample - loss: 0.4357 - val_loss: 0.4578\n",
      "Epoch 43/100\n",
      "11610/11610 [==============================] - 1s 111us/sample - loss: 0.4341 - val_loss: 0.4567\n",
      "Epoch 44/100\n",
      "11610/11610 [==============================] - 1s 106us/sample - loss: 0.4329 - val_loss: 0.4550\n",
      "Epoch 45/100\n",
      "11610/11610 [==============================] - 1s 107us/sample - loss: 0.4318 - val_loss: 0.4532\n",
      "Epoch 46/100\n",
      "11610/11610 [==============================] - 1s 107us/sample - loss: 0.4305 - val_loss: 0.4519\n",
      "Epoch 47/100\n",
      "11610/11610 [==============================] - 1s 104us/sample - loss: 0.4293 - val_loss: 0.4502\n",
      "Epoch 48/100\n",
      "11610/11610 [==============================] - 1s 104us/sample - loss: 0.4281 - val_loss: 0.4493\n",
      "Epoch 49/100\n",
      "11610/11610 [==============================] - 1s 108us/sample - loss: 0.4271 - val_loss: 0.4480\n",
      "Epoch 50/100\n",
      "11610/11610 [==============================] - 1s 105us/sample - loss: 0.4258 - val_loss: 0.4466\n",
      "Epoch 51/100\n",
      "11610/11610 [==============================] - 1s 107us/sample - loss: 0.4247 - val_loss: 0.4456\n",
      "Epoch 52/100\n",
      "11610/11610 [==============================] - 1s 106us/sample - loss: 0.4236 - val_loss: 0.4451\n",
      "Epoch 53/100\n",
      "11610/11610 [==============================] - 1s 105us/sample - loss: 0.4225 - val_loss: 0.4430\n",
      "Epoch 54/100\n",
      "11610/11610 [==============================] - 1s 107us/sample - loss: 0.4215 - val_loss: 0.4417\n",
      "Epoch 55/100\n",
      "11610/11610 [==============================] - 1s 107us/sample - loss: 0.4202 - val_loss: 0.4408\n",
      "Epoch 56/100\n",
      "11610/11610 [==============================] - 1s 99us/sample - loss: 0.4194 - val_loss: 0.4401\n",
      "Epoch 57/100\n",
      "11610/11610 [==============================] - 1s 104us/sample - loss: 0.4183 - val_loss: 0.4381\n",
      "Epoch 58/100\n",
      "11610/11610 [==============================] - 1s 105us/sample - loss: 0.4175 - val_loss: 0.4372\n",
      "Epoch 59/100\n",
      "11610/11610 [==============================] - 1s 106us/sample - loss: 0.4164 - val_loss: 0.4360\n",
      "Epoch 60/100\n",
      "11610/11610 [==============================] - 1s 107us/sample - loss: 0.4154 - val_loss: 0.4347\n",
      "Epoch 61/100\n",
      "11610/11610 [==============================] - 1s 107us/sample - loss: 0.4145 - val_loss: 0.4333\n",
      "Epoch 62/100\n",
      "11610/11610 [==============================] - 1s 109us/sample - loss: 0.4136 - val_loss: 0.4338\n",
      "Epoch 63/100\n",
      "11610/11610 [==============================] - 1s 107us/sample - loss: 0.4126 - val_loss: 0.4313\n",
      "Epoch 64/100\n",
      "11610/11610 [==============================] - 1s 108us/sample - loss: 0.4116 - val_loss: 0.4305\n",
      "Epoch 65/100\n",
      "11610/11610 [==============================] - 1s 109us/sample - loss: 0.4108 - val_loss: 0.4296\n",
      "Epoch 66/100\n",
      "11610/11610 [==============================] - 1s 104us/sample - loss: 0.4099 - val_loss: 0.4290\n",
      "Epoch 67/100\n",
      "11610/11610 [==============================] - 1s 106us/sample - loss: 0.4090 - val_loss: 0.4287\n",
      "Epoch 68/100\n",
      "11610/11610 [==============================] - 1s 107us/sample - loss: 0.4082 - val_loss: 0.4273\n",
      "Epoch 69/100\n",
      "11610/11610 [==============================] - 1s 110us/sample - loss: 0.4074 - val_loss: 0.4261\n",
      "Epoch 70/100\n",
      "11610/11610 [==============================] - 1s 106us/sample - loss: 0.4064 - val_loss: 0.4244\n",
      "Epoch 71/100\n",
      "11610/11610 [==============================] - 1s 108us/sample - loss: 0.4057 - val_loss: 0.4242\n",
      "Epoch 72/100\n",
      "11610/11610 [==============================] - 1s 106us/sample - loss: 0.4049 - val_loss: 0.4224\n",
      "Epoch 73/100\n",
      "11610/11610 [==============================] - 1s 110us/sample - loss: 0.4043 - val_loss: 0.4220\n",
      "Epoch 74/100\n",
      "11610/11610 [==============================] - 1s 105us/sample - loss: 0.4035 - val_loss: 0.4209\n",
      "Epoch 75/100\n"
     ]
    },
    {
     "name": "stdout",
     "output_type": "stream",
     "text": [
      "11610/11610 [==============================] - 1s 108us/sample - loss: 0.4027 - val_loss: 0.4202\n",
      "Epoch 76/100\n",
      "11610/11610 [==============================] - 1s 115us/sample - loss: 0.4018 - val_loss: 0.4200\n",
      "Epoch 77/100\n",
      "11610/11610 [==============================] - 1s 112us/sample - loss: 0.4011 - val_loss: 0.4199\n",
      "Epoch 78/100\n",
      "11610/11610 [==============================] - 1s 113us/sample - loss: 0.4005 - val_loss: 0.4174\n",
      "Epoch 79/100\n",
      "11610/11610 [==============================] - 1s 109us/sample - loss: 0.3997 - val_loss: 0.4165\n",
      "Epoch 80/100\n",
      "11610/11610 [==============================] - 1s 112us/sample - loss: 0.3990 - val_loss: 0.4161\n",
      "Epoch 81/100\n",
      "11610/11610 [==============================] - 1s 108us/sample - loss: 0.3986 - val_loss: 0.4154\n",
      "Epoch 82/100\n",
      "11610/11610 [==============================] - 1s 107us/sample - loss: 0.3978 - val_loss: 0.4143\n",
      "Epoch 83/100\n",
      "11610/11610 [==============================] - 1s 105us/sample - loss: 0.3971 - val_loss: 0.4142\n",
      "Epoch 84/100\n",
      "11610/11610 [==============================] - 1s 111us/sample - loss: 0.3965 - val_loss: 0.4133\n",
      "Epoch 85/100\n",
      "11610/11610 [==============================] - 1s 112us/sample - loss: 0.3958 - val_loss: 0.4124\n",
      "Epoch 86/100\n",
      "11610/11610 [==============================] - 1s 104us/sample - loss: 0.3951 - val_loss: 0.4109\n",
      "Epoch 87/100\n",
      "11610/11610 [==============================] - 1s 106us/sample - loss: 0.3944 - val_loss: 0.4101\n",
      "Epoch 88/100\n",
      "11610/11610 [==============================] - 1s 107us/sample - loss: 0.3938 - val_loss: 0.4102\n",
      "Epoch 89/100\n",
      "11610/11610 [==============================] - 1s 105us/sample - loss: 0.3932 - val_loss: 0.4088\n",
      "Epoch 90/100\n",
      "11610/11610 [==============================] - 1s 108us/sample - loss: 0.3925 - val_loss: 0.4077\n",
      "Epoch 91/100\n",
      "11610/11610 [==============================] - 1s 112us/sample - loss: 0.3920 - val_loss: 0.4078\n",
      "Epoch 92/100\n",
      "11610/11610 [==============================] - 1s 107us/sample - loss: 0.3913 - val_loss: 0.4065\n",
      "Epoch 93/100\n",
      "11610/11610 [==============================] - 1s 108us/sample - loss: 0.3905 - val_loss: 0.4055\n",
      "Epoch 94/100\n",
      "11610/11610 [==============================] - 1s 105us/sample - loss: 0.3900 - val_loss: 0.4057\n",
      "Epoch 95/100\n",
      "11610/11610 [==============================] - 1s 110us/sample - loss: 0.3895 - val_loss: 0.4045\n",
      "Epoch 96/100\n",
      "11610/11610 [==============================] - 1s 107us/sample - loss: 0.3889 - val_loss: 0.4037\n",
      "Epoch 97/100\n",
      "11610/11610 [==============================] - 1s 104us/sample - loss: 0.3883 - val_loss: 0.4033\n",
      "Epoch 98/100\n",
      "11610/11610 [==============================] - 1s 107us/sample - loss: 0.3879 - val_loss: 0.4024\n",
      "Epoch 99/100\n",
      "11610/11610 [==============================] - 1s 108us/sample - loss: 0.3873 - val_loss: 0.4017\n",
      "Epoch 100/100\n",
      "11610/11610 [==============================] - 1s 107us/sample - loss: 0.3868 - val_loss: 0.4009\n"
     ]
    }
   ],
   "source": [
    "history = model.fit(x_train_scaled, y_train,\n",
    "                   validation_data = (x_valid_scaled, y_valid),\n",
    "                   epochs = 100,\n",
    "                   callbacks = callbacks)"
   ]
  },
  {
   "cell_type": "code",
   "execution_count": 14,
   "metadata": {},
   "outputs": [
    {
     "data": {
      "image/png": "[encoded data removed]",
      "text/plain": [
       "<Figure size 576x360 with 1 Axes>"
      ]
     },
     "metadata": {
      "needs_background": "light"
     },
     "output_type": "display_data"
    }
   ],
   "source": [
    "def plot_learning_curves(history):\n",
    "    pd.DataFrame(history.history).plot(figsize = (8, 5))\n",
    "    plt.grid(True)\n",
    "    plt.gca().set_ylim(0, 1)\n",
    "    plt.show()\n",
    "plot_learning_curves(history)"
   ]
  },
  {
   "cell_type": "code",
   "execution_count": null,
   "metadata": {},
   "outputs": [],
   "source": []
  }
 ],
 "metadata": {
  "kernelspec": {
   "display_name": "Python [conda env:tf2_py3] *",
   "language": "python",
   "name": "conda-env-tf2_py3-py"
  },
  "language_info": {
   "codemirror_mode": {
    "name": "ipython",
    "version": 3
   },
   "file_extension": ".py",
   "mimetype": "text/x-python",
   "name": "python",
   "nbconvert_exporter": "python",
   "pygments_lexer": "ipython3",
   "version": "3.7.3"
  }
 },
 "nbformat": 4,
 "nbformat_minor": 2
}
